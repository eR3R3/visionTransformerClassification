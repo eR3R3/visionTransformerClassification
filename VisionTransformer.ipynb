{
  "cells": [
    {
      "cell_type": "markdown",
      "metadata": {
        "id": "view-in-github",
        "colab_type": "text"
      },
      "source": [
        "<a href=\"https://colab.research.google.com/github/eR3R3/visionTransformerClassification/blob/main/VisionTransformer.ipynb\" target=\"_parent\"><img src=\"https://colab.research.google.com/assets/colab-badge.svg\" alt=\"Open In Colab\"/></a>"
      ]
    },
    {
      "cell_type": "markdown",
      "metadata": {
        "id": "oHpX_AoagqRO"
      },
      "source": [
        "Config and embedding"
      ]
    },
    {
      "cell_type": "code",
      "execution_count": null,
      "metadata": {
        "id": "Fss1-1lvbp2d"
      },
      "outputs": [],
      "source": [
        "import torch\n",
        "from torch import nn\n",
        "import numpy as np\n",
        "import torch.optim as optim\n",
        "import os\n",
        "import yaml\n",
        "from torch.utils.data import Dataset, DataLoader\n",
        "from torchvision import transforms\n",
        "from PIL import Image\n",
        "from typing import Dict, List, Optional, Union, Tuple, Iterable\n",
        "from google.colab import files\n",
        "\n",
        "device = torch.device('cuda' if torch.cuda.is_available() else 'cpu')\n",
        "\n",
        "class VisionConfig:\n",
        "\n",
        "    def __init__(\n",
        "        self,\n",
        "        emb_dim=224,\n",
        "        num_layer=12,\n",
        "        batch_size=32,\n",
        "        num_attention_head=8,\n",
        "        in_channel=3,\n",
        "        image_size=32,\n",
        "        kernel_size=8,\n",
        "        layer_norm_eps=1e-6,\n",
        "        attention_dropout=0.0,\n",
        "        num_feature=16,\n",
        "        num_image_tokens: int = None):\n",
        "\n",
        "        self.emb_dim = emb_dim\n",
        "        self.batch_size = batch_size\n",
        "        self.kernel_size = kernel_size\n",
        "        self.num_layer = num_layer\n",
        "        self.num_feature = num_feature\n",
        "        self.num_attention_head = num_attention_head\n",
        "        self.image_size = image_size\n",
        "        self.in_channel = in_channel\n",
        "        self.attention_dropout = attention_dropout\n",
        "        self.layer_norm_eps = layer_norm_eps\n",
        "        self.num_image_tokens = num_image_tokens\n",
        "\n",
        "\n",
        "class VisionEmbedding(nn.Module):\n",
        "    def __init__(self, config: VisionConfig):\n",
        "        super().__init__()\n",
        "        self.emb_dim = config.emb_dim\n",
        "        self.in_channel = config.in_channel\n",
        "        self.out_channel = self.emb_dim\n",
        "        self.kernel_size = config.kernel_size\n",
        "        self.image_size = config.image_size\n",
        "        self.conv_1 = nn.Conv2d(kernel_size=self.kernel_size,\n",
        "                                in_channels=self.in_channel,\n",
        "                                out_channels=self.out_channel,\n",
        "                                stride=self.kernel_size)\n",
        "        self.num_feature = (self.image_size // self.kernel_size) ** 2\n",
        "        self.pos_embedding = nn.Embedding(self.num_feature, self.emb_dim)\n",
        "        self.register_buffer(\"pos_emb_index\",\n",
        "                             torch.arange(self.num_feature),\n",
        "                             persistent=False)\n",
        "\n",
        "    def forward(self, x: torch.Tensor) -> torch.Tensor:\n",
        "        batch_size, in_channel, height, width = x.shape\n",
        "        # x_shape = [batch_size, in_channel, height, width]\n",
        "        x = self.conv_1(x)\n",
        "        # x_shape = [batch_size, out_channel, height, width]\n",
        "        x = x.flatten(2)\n",
        "        # x_shape = [batch_size, emb_dim, num_feature]\n",
        "        x = x.transpose(1, 2)\n",
        "        # x_shape = [batch_size, num_feature, emb_dim]\n",
        "        x = x + self.pos_embedding(self.pos_emb_index)\n",
        "        return x\n"
      ]
    },
    {
      "cell_type": "markdown",
      "metadata": {
        "id": "GawuJPQDgyAw"
      },
      "source": [
        "LayerNorm and MLP\n"
      ]
    },
    {
      "cell_type": "code",
      "execution_count": null,
      "metadata": {
        "id": "UcnKUtQphGAU"
      },
      "outputs": [],
      "source": [
        "class LayerNorm(nn.LayerNorm):\n",
        "    def forward(self, input: torch.Tensor) -> torch.Tensor:\n",
        "        orig_dtype = input.dtype\n",
        "        ans = super().forward(input.type(torch.float32))\n",
        "        ans = ans.type(orig_dtype)\n",
        "        return ans\n",
        "\n",
        "\n",
        "class Mlp(nn.Module):\n",
        "    def __init__(self, emb_dim: int):\n",
        "        super().__init__()\n",
        "        self.linear_1 = nn.Linear(emb_dim, emb_dim*4)\n",
        "        self.gelu = nn.GELU()\n",
        "        self.linear_2 = nn.Linear(emb_dim*4, emb_dim)\n",
        "    def forward(self, x:torch.Tensor) -> torch.Tensor:\n",
        "        x = self.linear_1(x)\n",
        "        x = self.gelu(x)\n",
        "        x = self.linear_2(x)\n",
        "        return x\n"
      ]
    },
    {
      "cell_type": "markdown",
      "metadata": {
        "id": "uz1g6iHmtrTi"
      },
      "source": [
        "Attention Mechanism and Residual Transformer"
      ]
    },
    {
      "cell_type": "code",
      "execution_count": null,
      "metadata": {
        "id": "l6kjmIVag-up"
      },
      "outputs": [],
      "source": [
        "class VisionAttention(nn.Module):\n",
        "    def __init__(self, config: VisionConfig):\n",
        "        super().__init__()\n",
        "        self.attention_dropout = config.attention_dropout\n",
        "        self.emb_dim = config.emb_dim\n",
        "        self.mlp = Mlp(emb_dim=config.emb_dim)\n",
        "        self.linear_qkv = nn.Linear(self.emb_dim, self.emb_dim * 3)\n",
        "        self.dropout = nn.Dropout(config.attention_dropout)\n",
        "        self.layer_norm = LayerNorm(self.emb_dim)\n",
        "        self.num_head = config.num_attention_head\n",
        "        self.num_feature =config.num_feature\n",
        "        self.head_dim = config.emb_dim // config.num_attention_head\n",
        "        self.scale = self.head_dim ** -0.5\n",
        "        self.batch_size = config.batch_size\n",
        "    def forward(self, x: torch.Tensor) -> torch.Tensor:\n",
        "        x = self.linear_qkv(x)\n",
        "        # [batch_size, num_feature, emb_dim*3]\n",
        "        q, k, v = x.chunk(3, dim=-1)\n",
        "        # 3 * [batch_size, num_feature, emb_dim]\n",
        "        q = q.reshape(self.batch_size, self.num_feature, self.num_head, self.head_dim).permute(0, 2, 1, 3)\n",
        "        k = k.reshape(self.batch_size, self.num_feature, self.num_head, self.head_dim).permute(0, 2, 1, 3)\n",
        "        v = v.reshape(self.batch_size, self.num_feature, self.num_head, self.head_dim).permute(0, 2, 1, 3)\n",
        "        # 3 * [batch_size, num_head, num_feature, head_dim]\n",
        "        attn_weights = (torch.matmul(q, k.transpose(2, 3)) * self.scale)\n",
        "        attn_weights = attn_weights.softmax(dim=-1)\n",
        "        attn_weights = self.dropout(attn_weights)\n",
        "        x = torch.matmul(attn_weights, v)\n",
        "        x = x.transpose(1, 2)\n",
        "        x = x.reshape(self.batch_size, self.num_feature, self.emb_dim)\n",
        "        return x\n",
        "\n",
        "class ResidualVisionTransformer(nn.Module):\n",
        "    def __init__(self,config: VisionConfig, attention=VisionAttention, Mlp=Mlp):\n",
        "        super().__init__()\n",
        "        self.attention = attention(config)\n",
        "        self.num_layer = config.num_layer\n",
        "        self.mlp = Mlp(emb_dim=config.emb_dim)\n",
        "        self.layer_norm = LayerNorm(config.emb_dim)\n",
        "    def forward(self, x: torch.Tensor) -> torch.Tensor:\n",
        "        for i in range(self.num_layer):\n",
        "            residual = x\n",
        "            x = self.layer_norm(x)\n",
        "            x = self.attention(x)\n",
        "            x = self.mlp(x)\n",
        "            x = x + residual\n",
        "        return x"
      ]
    },
    {
      "cell_type": "markdown",
      "metadata": {
        "id": "peI7mDqvt7rM"
      },
      "source": [
        "Final Transformer Model"
      ]
    },
    {
      "cell_type": "code",
      "execution_count": null,
      "metadata": {
        "id": "9cR3EsS9hYrW"
      },
      "outputs": [],
      "source": [
        "class VisionModel(nn.Module):\n",
        "    def __init__(self, config: VisionConfig):\n",
        "        super().__init__()\n",
        "        self.embedding = VisionEmbedding(config)\n",
        "        self.transformer = ResidualVisionTransformer(config)\n",
        "        self.layer_norm = LayerNorm(config.emb_dim)\n",
        "        self.condensation = nn.Linear(224, 1)\n",
        "        self.projection = nn.Linear(16, 10)\n",
        "\n",
        "    def forward(self, x: torch.Tensor) -> torch.Tensor:\n",
        "        x = self.embedding(x)\n",
        "        x = self.transformer(x)\n",
        "        x = self.layer_norm(x)\n",
        "        x = self.condensation(x)\n",
        "        x = x.flatten(1)\n",
        "        x = self.projection(x)\n",
        "        return x"
      ]
    },
    {
      "cell_type": "code",
      "execution_count": null,
      "metadata": {
        "colab": {
          "base_uri": "https://localhost:8080/"
        },
        "id": "dx2QbghLhbh4",
        "outputId": "7742f7a7-bc34-4545-bbc7-fe5c479e892d"
      },
      "outputs": [
        {
          "data": {
            "text/plain": [
              "VisionModel(\n",
              "  (embedding): VisionEmbedding(\n",
              "    (conv_1): Conv2d(3, 224, kernel_size=(8, 8), stride=(8, 8))\n",
              "    (pos_embedding): Embedding(16, 224)\n",
              "  )\n",
              "  (transformer): ResidualVisionTransformer(\n",
              "    (attention): VisionAttention(\n",
              "      (mlp): Mlp(\n",
              "        (linear_1): Linear(in_features=224, out_features=896, bias=True)\n",
              "        (gelu): GELU(approximate='none')\n",
              "        (linear_2): Linear(in_features=896, out_features=224, bias=True)\n",
              "      )\n",
              "      (linear_qkv): Linear(in_features=224, out_features=672, bias=True)\n",
              "      (dropout): Dropout(p=0.0, inplace=False)\n",
              "      (layer_norm): LayerNorm((224,), eps=1e-05, elementwise_affine=True)\n",
              "    )\n",
              "    (mlp): Mlp(\n",
              "      (linear_1): Linear(in_features=224, out_features=896, bias=True)\n",
              "      (gelu): GELU(approximate='none')\n",
              "      (linear_2): Linear(in_features=896, out_features=224, bias=True)\n",
              "    )\n",
              "    (layer_norm): LayerNorm((224,), eps=1e-05, elementwise_affine=True)\n",
              "  )\n",
              "  (layer_norm): LayerNorm((224,), eps=1e-05, elementwise_affine=True)\n",
              "  (condensation): Linear(in_features=224, out_features=1, bias=True)\n",
              "  (projection): Linear(in_features=16, out_features=10, bias=True)\n",
              ")"
            ]
          },
          "execution_count": 6,
          "metadata": {},
          "output_type": "execute_result"
        }
      ],
      "source": [
        "vision_config = VisionConfig()\n",
        "vision_model = VisionModel(vision_config)\n",
        "vision_model.to(device)"
      ]
    },
    {
      "cell_type": "code",
      "execution_count": null,
      "metadata": {
        "id": "9c1lAjtAvboq"
      },
      "outputs": [],
      "source": [
        "#uploaded = files.upload()\n"
      ]
    },
    {
      "cell_type": "code",
      "execution_count": null,
      "metadata": {
        "colab": {
          "base_uri": "https://localhost:8080/"
        },
        "id": "l_MufUtbU2uD",
        "outputId": "b8d0d391-38d0-4096-dd95-aefe6a2ed97d"
      },
      "outputs": [
        {
          "name": "stdout",
          "output_type": "stream",
          "text": [
            "Drive already mounted at /content/drive; to attempt to forcibly remount, call drive.mount(\"/content/drive\", force_remount=True).\n",
            "airplane\n"
          ]
        }
      ],
      "source": [
        "from google.colab import drive\n",
        "drive.mount('/content/drive')\n",
        "\n",
        "def unpickle(file):\n",
        "    import pickle\n",
        "    with open(file, 'rb') as fo:\n",
        "        dict = pickle.load(fo, encoding='bytes')\n",
        "    return dict\n",
        "\n",
        "meta_file_path = \"/content/drive/MyDrive/dataset/cifer_10/batches.meta\"\n",
        "meta_file = unpickle(meta_file_path)\n",
        "label_name = meta_file[b'label_names']\n",
        "label_name = [byte.decode() for byte in label_name]\n",
        "print(label_name[0])"
      ]
    },
    {
      "cell_type": "code",
      "execution_count": null,
      "metadata": {
        "colab": {
          "base_uri": "https://localhost:8080/"
        },
        "id": "O28GRqAjuFh0",
        "outputId": "03b8e893-dd15-4290-af32-f0a1f8621ea1"
      },
      "outputs": [
        {
          "name": "stdout",
          "output_type": "stream",
          "text": [
            "[b'batch_label', b'labels', b'data', b'filenames']\n",
            "torch.Size([10000, 3072])\n",
            "torch.Size([10000])\n"
          ]
        }
      ],
      "source": [
        "def unpickle(file):\n",
        "    import pickle\n",
        "    with open(file, 'rb') as fo:\n",
        "        dict = pickle.load(fo, encoding='bytes')\n",
        "    return dict\n",
        "\n",
        "file = \"./data_batch_1\"\n",
        "img_data = unpickle(file)\n",
        "img_data_keys = list(img_data.keys())[:4]\n",
        "img_filename = img_data[b'filenames']\n",
        "img_label = img_data[b'labels']\n",
        "img_data = img_data[b'data']\n",
        "img_data = torch.from_numpy(img_data)\n",
        "img_label = torch.tensor(img_label)\n",
        "img_data = img_data.to(device)\n",
        "img_label = img_label.to(device)\n",
        "print(img_data_keys)\n",
        "print(img_data.shape)\n",
        "print(img_label.shape)"
      ]
    },
    {
      "cell_type": "code",
      "execution_count": 1,
      "metadata": {
        "colab": {
          "base_uri": "https://localhost:8080/",
          "height": 216
        },
        "collapsed": true,
        "id": "jXTwniB9MIYR",
        "outputId": "228a7837-f11a-44e1-8196-ba467a494e49"
      },
      "outputs": [
        {
          "output_type": "error",
          "ename": "NameError",
          "evalue": "name 'img_data' is not defined",
          "traceback": [
            "\u001b[0;31m---------------------------------------------------------------------------\u001b[0m",
            "\u001b[0;31mNameError\u001b[0m                                 Traceback (most recent call last)",
            "\u001b[0;32m<ipython-input-1-2db56d6deb7c>\u001b[0m in \u001b[0;36m<cell line: 10>\u001b[0;34m()\u001b[0m\n\u001b[1;32m      8\u001b[0m   \u001b[0mnormalized_images\u001b[0m \u001b[0;34m=\u001b[0m \u001b[0;34m(\u001b[0m\u001b[0mimg_data\u001b[0m \u001b[0;34m-\u001b[0m \u001b[0mmean\u001b[0m\u001b[0;34m)\u001b[0m \u001b[0;34m/\u001b[0m \u001b[0mstd\u001b[0m\u001b[0;34m\u001b[0m\u001b[0;34m\u001b[0m\u001b[0m\n\u001b[1;32m      9\u001b[0m   \u001b[0;32mreturn\u001b[0m \u001b[0mnormalized_images\u001b[0m\u001b[0;34m\u001b[0m\u001b[0;34m\u001b[0m\u001b[0m\n\u001b[0;32m---> 10\u001b[0;31m \u001b[0mimg_data\u001b[0m \u001b[0;34m=\u001b[0m \u001b[0mpreprocess\u001b[0m\u001b[0;34m(\u001b[0m\u001b[0mimg_data\u001b[0m\u001b[0;34m)\u001b[0m\u001b[0;34m\u001b[0m\u001b[0;34m\u001b[0m\u001b[0m\n\u001b[0m\u001b[1;32m     11\u001b[0m \u001b[0mprint\u001b[0m\u001b[0;34m(\u001b[0m\u001b[0mimg_data\u001b[0m\u001b[0;34m.\u001b[0m\u001b[0mshape\u001b[0m\u001b[0;34m)\u001b[0m\u001b[0;34m\u001b[0m\u001b[0;34m\u001b[0m\u001b[0m\n\u001b[1;32m     12\u001b[0m \u001b[0;34m\u001b[0m\u001b[0m\n",
            "\u001b[0;31mNameError\u001b[0m: name 'img_data' is not defined"
          ]
        }
      ],
      "source": [
        "def preprocess(data):\n",
        "  img_data = data.reshape(-1, 3, 32, 32)\n",
        "  img_data = img_data.float()/255.0\n",
        "  mean = torch.tensor([0.485, 0.456, 0.406]).to(device)\n",
        "  std = torch.tensor([0.229, 0.224, 0.225]).to(device)\n",
        "  mean = mean[None, :, None, None]\n",
        "  std = std[None, :, None, None]\n",
        "  normalized_images = (img_data - mean) / std\n",
        "  return normalized_images\n",
        "img_data = preprocess(img_data)\n",
        "print(\"preprocessed data shape:\",img_data.shape)\n",
        "\n",
        "class VisionDataset(Dataset):\n",
        "  def __init__(self, data, label, preprocess):\n",
        "    super().__init__()\n",
        "    # data: [num_batches, num_channel, height, width]\n",
        "    self.label = label\n",
        "    self.preprocess = preprocess\n",
        "    self.data = preprocess(data)\n",
        "  def __len__(self):\n",
        "    return len(self.data)\n",
        "\n",
        "  def __getitem__(self, idx):\n",
        "    img = self.data[idx]\n",
        "    label = self.label[idx]\n",
        "    return img, label\n",
        "\n",
        "\n",
        "train_set = VisionDataset(img_data[0:8000], img_label[0:8000], preprocess)\n",
        "val_set = VisionDataset(img_data[8000:9984], img_label[8000:9984], preprocess)\n",
        "\n",
        "batch_size = 32\n",
        "train_loader = DataLoader(train_set, batch_size, shuffle=True)\n",
        "val_loader = DataLoader(val_set, batch_size, shuffle=False)\n",
        "\n",
        "right_num_total = 0\n",
        "for num, (img, label) in enumerate(train_loader):\n",
        "  logits = vision_model(img)\n",
        "  pred = nn.functional.softmax(logits, dim=-1)\n",
        "  _, max_index = pred.max(dim=-1)\n",
        "  right_num_batch = (max_index == label).sum().item()\n",
        "  right_num_total = right_num_batch + right_num_total\n",
        "right_rate = right_num_total/8000\n",
        "print(\"original accuracy:\", f\"{right_rate*100}%\")"
      ]
    },
    {
      "cell_type": "code",
      "execution_count": null,
      "metadata": {
        "colab": {
          "background_save": true,
          "base_uri": "https://localhost:8080/"
        },
        "id": "MpG1H_726msp",
        "outputId": "1592b3c2-6888-4c8b-adfe-ee936fc227e6"
      },
      "outputs": [
        {
          "name": "stdout",
          "output_type": "stream",
          "text": [
            "Epoch 0, Validation Loss: 2.3058\n",
            "Epoch 1, Validation Loss: 2.3030\n",
            "Epoch 2, Validation Loss: 2.3030\n",
            "Epoch 3, Validation Loss: 2.3021\n",
            "Epoch 4, Validation Loss: 2.3054\n",
            "Epoch 5, Validation Loss: 2.3025\n",
            "Epoch 6, Validation Loss: 2.3038\n",
            "Epoch 7, Validation Loss: 2.3019\n",
            "Epoch 8, Validation Loss: 2.3027\n",
            "Epoch 9, Validation Loss: 2.3023\n",
            "Epoch 10, Validation Loss: 2.3018\n",
            "Epoch 11, Validation Loss: 2.3037\n",
            "Epoch 12, Validation Loss: 2.3020\n",
            "Epoch 13, Validation Loss: 2.3016\n",
            "Epoch 14, Validation Loss: 2.3016\n",
            "Epoch 15, Validation Loss: 2.3015\n",
            "Epoch 16, Validation Loss: 2.3013\n",
            "Epoch 17, Validation Loss: 2.3014\n",
            "Epoch 18, Validation Loss: 2.3029\n",
            "Epoch 19, Validation Loss: 2.3007\n",
            "Epoch 20, Validation Loss: 2.3011\n",
            "Epoch 21, Validation Loss: 2.3002\n",
            "Epoch 22, Validation Loss: 2.3010\n",
            "Epoch 23, Validation Loss: 2.2958\n",
            "Epoch 24, Validation Loss: 2.2871\n",
            "Epoch 25, Validation Loss: 2.2932\n",
            "Epoch 26, Validation Loss: 2.1632\n",
            "Epoch 27, Validation Loss: 2.1308\n",
            "Epoch 28, Validation Loss: 2.1378\n",
            "Epoch 29, Validation Loss: 2.1195\n",
            "Epoch 30, Validation Loss: 2.1368\n",
            "Epoch 31, Validation Loss: 2.0987\n",
            "Epoch 32, Validation Loss: 2.1198\n",
            "Epoch 33, Validation Loss: 2.0873\n",
            "Epoch 34, Validation Loss: 2.0942\n",
            "Epoch 35, Validation Loss: 2.0758\n",
            "Epoch 36, Validation Loss: 2.0683\n",
            "Epoch 37, Validation Loss: 2.0832\n",
            "Epoch 38, Validation Loss: 2.0688\n",
            "Epoch 39, Validation Loss: 2.0619\n",
            "Epoch 40, Validation Loss: 2.0447\n",
            "Epoch 41, Validation Loss: 2.0698\n",
            "Epoch 42, Validation Loss: 2.0468\n",
            "Epoch 43, Validation Loss: 2.0963\n",
            "Epoch 44, Validation Loss: 2.0381\n",
            "Epoch 45, Validation Loss: 2.0261\n",
            "Epoch 46, Validation Loss: 2.0210\n",
            "Epoch 47, Validation Loss: 2.0244\n",
            "Epoch 48, Validation Loss: 2.0135\n",
            "Epoch 49, Validation Loss: 2.0141\n",
            "Epoch 50, Validation Loss: 2.0074\n",
            "Epoch 51, Validation Loss: 2.0054\n",
            "Epoch 52, Validation Loss: 1.9849\n",
            "Epoch 53, Validation Loss: 1.9911\n",
            "Epoch 54, Validation Loss: 1.9893\n",
            "Epoch 55, Validation Loss: 1.9738\n",
            "Epoch 56, Validation Loss: 2.0027\n",
            "Epoch 57, Validation Loss: 1.9695\n",
            "Epoch 58, Validation Loss: 1.9679\n",
            "Epoch 59, Validation Loss: 1.9496\n",
            "Epoch 60, Validation Loss: 1.9837\n",
            "Epoch 61, Validation Loss: 1.9611\n",
            "Epoch 62, Validation Loss: 1.9591\n",
            "Epoch 63, Validation Loss: 1.9422\n",
            "Epoch 64, Validation Loss: 1.9450\n",
            "Epoch 65, Validation Loss: 1.9475\n",
            "Epoch 66, Validation Loss: 1.9441\n"
          ]
        }
      ],
      "source": [
        "from torch.optim import Adam\n",
        "from torch.nn import CrossEntropyLoss\n",
        "\n",
        "optimizer = Adam(vision_model.parameters(), lr=1e-4)\n",
        "criterion = CrossEntropyLoss()\n",
        "\n",
        "best_val_loss = float('inf')\n",
        "patience = 10\n",
        "counter = 0\n",
        "\n",
        "for epoch in range(100):  # 最大训练 100 个 epoch\n",
        "    # 训练阶段\n",
        "    vision_model.train()\n",
        "    for img, label in train_loader:\n",
        "        optimizer.zero_grad()\n",
        "        output = vision_model(img)\n",
        "        loss = criterion(output, label)\n",
        "        loss.backward()\n",
        "        optimizer.step()\n",
        "\n",
        "    # 验证阶段\n",
        "    vision_model.eval()\n",
        "    val_loss = 0\n",
        "    with torch.no_grad():\n",
        "        right_num_total = 0\n",
        "        label_num_total = 0\n",
        "        for img, label in val_loader:\n",
        "            output = vision_model(img)\n",
        "            val_loss += criterion(output, label).item()\n",
        "            pred = vision_model(img)\n",
        "            _, max_index = pred.max(dim=-1, keepdim=False)\n",
        "            right_num_batch = (max_index==label).sum().item()\n",
        "            right_num_total = right_num_total + right_num_batch\n",
        "            label_num_total = label_num_total + 32\n",
        "    val_loss /= len(val_loader)\n",
        "    accuracy = right_num_total / label_num_total\n",
        "\n",
        "    print(f\"Epoch {epoch}, Validation Loss: {val_loss:.3f}, Accuracy: {accuracy*100:.3f}%\")\n",
        "\n",
        "    # Early stopping\n",
        "    if val_loss < best_val_loss:\n",
        "        best_val_loss = val_loss\n",
        "        counter = 0\n",
        "    else:\n",
        "        counter += 1\n",
        "        if counter >= patience:\n",
        "            print(\"Early stopping triggered.\")\n",
        "            break"
      ]
    }
  ],
  "metadata": {
    "colab": {
      "provenance": [],
      "mount_file_id": "1LcDnWFjoYvtFJi8eNsZM6HMCvmJGkXM3",
      "authorship_tag": "ABX9TyOzXyNTA5smbONDjZhj7dju",
      "include_colab_link": true
    },
    "kernelspec": {
      "display_name": "Python 3",
      "name": "python3"
    },
    "language_info": {
      "name": "python"
    }
  },
  "nbformat": 4,
  "nbformat_minor": 0
}